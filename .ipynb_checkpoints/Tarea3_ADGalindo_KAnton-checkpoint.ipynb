{
 "cells": [
  {
   "cell_type": "markdown",
   "metadata": {},
   "source": [
    "<img style=\"float: left; margin: 30px 15px 15px 15px;\" src=\"https://pngimage.net/wp-content/uploads/2018/06/logo-iteso-png-5.png\" width=\"300\" height=\"500\" /> \n",
    "    \n",
    "    \n",
    "### <font color='navy'> Simulación de procesos financieros. \n",
    "\n",
    "**Nombres:** Ariadna Desirée Galindo Marín & Karla Antón.\n",
    "\n",
    "**Fecha:** 17 de septiembre del 2020.\n",
    "\n",
    "**Expediente** : 718272, 714572.\n",
    "**Profesor:** Oscar David Jaramillo Zuluaga.\n",
    "\n",
    "# Tarea 3: Clase 6"
   ]
  },
  {
   "cell_type": "markdown",
   "metadata": {},
   "source": [
    "### Tarea:\n",
    "\n",
    "\n"
   ]
  },
  {
   "cell_type": "markdown",
   "metadata": {},
   "source": [
    "### Conclusio"
   ]
  },
  {
   "cell_type": "markdown",
   "metadata": {},
   "source": [
    "### Ariadna:\n",
    "\n",
    "Para esta tarea tuve que recordar y juntar cosas que he visto en todos los semestres anteriores, pero con la gran diferencia de que el código esta quedando bastante resumido. Me costó mucho trabajo realizar los ejercicios, pero espero que con la práctica logre entender más sobre estas funciones para optimizar el código, pero la que más me interesa entender y practicar por el momento es *lambda* porque nos ayuda a generar funciones como parte de un argumento. "
   ]
  },
  {
   "cell_type": "markdown",
   "metadata": {},
   "source": [
    "### Karla:\n",
    "\n",
    "En esta tarea pudimos observar que por medio de las funciones que tenemos disponibles logramos hacer nuestros códigos mucho más eficientes y fáciles de trabajar con ellos. Trabajar con estas funciones vistas en clase, nos permite la correcta manipulación ya sea de datos numéricos, cadenas de texto u otro tipo de fuentes de información. Es por ello que entender como funcionan es de gran importancia a la hora de generar nuestros códigos."
   ]
  }
 ],
 "metadata": {
  "kernelspec": {
   "display_name": "Python 3",
   "language": "python",
   "name": "python3"
  },
  "language_info": {
   "codemirror_mode": {
    "name": "ipython",
    "version": 3
   },
   "file_extension": ".py",
   "mimetype": "text/x-python",
   "name": "python",
   "nbconvert_exporter": "python",
   "pygments_lexer": "ipython3",
   "version": "3.7.3"
  }
 },
 "nbformat": 4,
 "nbformat_minor": 4
}
